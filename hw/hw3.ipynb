{
 "cells": [
  {
   "cell_type": "markdown",
   "metadata": {},
   "source": [
    "## HW3\n",
    "Name: Pei Tian, UNI: pt2632"
   ]
  },
  {
   "cell_type": "code",
   "execution_count": 1,
   "metadata": {},
   "outputs": [],
   "source": [
    "import itertools\n",
    "\n",
    "import numpy as np\n",
    "import pandas as pd\n",
    "import matplotlib.pyplot as plt\n",
    "import scipy.stats as st\n",
    "import seaborn as sns\n",
    "import statsmodels.api as sm\n",
    "from statsmodels.stats.diagnostic import het_breuschpagan\n",
    "\n",
    "import warnings\n",
    "warnings.filterwarnings('ignore')"
   ]
  },
  {
   "cell_type": "markdown",
   "metadata": {},
   "source": [
    "### Problem 1"
   ]
  },
  {
   "cell_type": "markdown",
   "metadata": {},
   "source": [
    "#### 1a"
   ]
  },
  {
   "cell_type": "code",
   "execution_count": 2,
   "metadata": {},
   "outputs": [
    {
     "data": {
      "text/html": [
       "<div>\n",
       "<style scoped>\n",
       "    .dataframe tbody tr th:only-of-type {\n",
       "        vertical-align: middle;\n",
       "    }\n",
       "\n",
       "    .dataframe tbody tr th {\n",
       "        vertical-align: top;\n",
       "    }\n",
       "\n",
       "    .dataframe thead th {\n",
       "        text-align: right;\n",
       "    }\n",
       "</style>\n",
       "<table border=\"1\" class=\"dataframe\">\n",
       "  <thead>\n",
       "    <tr style=\"text-align: right;\">\n",
       "      <th></th>\n",
       "      <th>Sales</th>\n",
       "      <th>Profit</th>\n",
       "      <th>Assets</th>\n",
       "    </tr>\n",
       "    <tr>\n",
       "      <th>Company</th>\n",
       "      <th></th>\n",
       "      <th></th>\n",
       "      <th></th>\n",
       "    </tr>\n",
       "  </thead>\n",
       "  <tbody>\n",
       "    <tr>\n",
       "      <th>Citi</th>\n",
       "      <td>108.28</td>\n",
       "      <td>17.05</td>\n",
       "      <td>1484.10</td>\n",
       "    </tr>\n",
       "    <tr>\n",
       "      <th>GE</th>\n",
       "      <td>152.36</td>\n",
       "      <td>16.59</td>\n",
       "      <td>750.33</td>\n",
       "    </tr>\n",
       "    <tr>\n",
       "      <th>AIG</th>\n",
       "      <td>95.04</td>\n",
       "      <td>10.91</td>\n",
       "      <td>766.42</td>\n",
       "    </tr>\n",
       "    <tr>\n",
       "      <th>BoA</th>\n",
       "      <td>65.45</td>\n",
       "      <td>14.14</td>\n",
       "      <td>1110.46</td>\n",
       "    </tr>\n",
       "    <tr>\n",
       "      <th>HSBC</th>\n",
       "      <td>62.97</td>\n",
       "      <td>9.52</td>\n",
       "      <td>1031.29</td>\n",
       "    </tr>\n",
       "  </tbody>\n",
       "</table>\n",
       "</div>"
      ],
      "text/plain": [
       "          Sales  Profit   Assets\n",
       "Company                         \n",
       "Citi     108.28   17.05  1484.10\n",
       "GE       152.36   16.59   750.33\n",
       "AIG       95.04   10.91   766.42\n",
       "BoA       65.45   14.14  1110.46\n",
       "HSBC      62.97    9.52  1031.29"
      ]
     },
     "execution_count": 2,
     "metadata": {},
     "output_type": "execute_result"
    }
   ],
   "source": [
    "data = pd.read_table('data/HW3-1.txt', header=0, index_col=0, delim_whitespace=True)\n",
    "data.head()"
   ]
  },
  {
   "cell_type": "code",
   "execution_count": 3,
   "metadata": {},
   "outputs": [
    {
     "data": {
      "text/plain": [
       "Sales     155.603\n",
       "Profit     14.704\n",
       "Assets    710.911\n",
       "dtype: float64"
      ]
     },
     "execution_count": 3,
     "metadata": {},
     "output_type": "execute_result"
    }
   ],
   "source": [
    "# mean vector\n",
    "data.mean()"
   ]
  },
  {
   "cell_type": "code",
   "execution_count": 4,
   "metadata": {},
   "outputs": [
    {
     "data": {
      "text/html": [
       "<div>\n",
       "<style scoped>\n",
       "    .dataframe tbody tr th:only-of-type {\n",
       "        vertical-align: middle;\n",
       "    }\n",
       "\n",
       "    .dataframe tbody tr th {\n",
       "        vertical-align: top;\n",
       "    }\n",
       "\n",
       "    .dataframe thead th {\n",
       "        text-align: right;\n",
       "    }\n",
       "</style>\n",
       "<table border=\"1\" class=\"dataframe\">\n",
       "  <thead>\n",
       "    <tr style=\"text-align: right;\">\n",
       "      <th></th>\n",
       "      <th>Sales</th>\n",
       "      <th>Profit</th>\n",
       "      <th>Assets</th>\n",
       "    </tr>\n",
       "  </thead>\n",
       "  <tbody>\n",
       "    <tr>\n",
       "      <th>Sales</th>\n",
       "      <td>7476.453246</td>\n",
       "      <td>303.618620</td>\n",
       "      <td>-35575.959570</td>\n",
       "    </tr>\n",
       "    <tr>\n",
       "      <th>Profit</th>\n",
       "      <td>303.618620</td>\n",
       "      <td>26.190316</td>\n",
       "      <td>-1053.827393</td>\n",
       "    </tr>\n",
       "    <tr>\n",
       "      <th>Assets</th>\n",
       "      <td>-35575.959570</td>\n",
       "      <td>-1053.827393</td>\n",
       "      <td>237054.269832</td>\n",
       "    </tr>\n",
       "  </tbody>\n",
       "</table>\n",
       "</div>"
      ],
      "text/plain": [
       "               Sales       Profit         Assets\n",
       "Sales    7476.453246   303.618620  -35575.959570\n",
       "Profit    303.618620    26.190316   -1053.827393\n",
       "Assets -35575.959570 -1053.827393  237054.269832"
      ]
     },
     "execution_count": 4,
     "metadata": {},
     "output_type": "execute_result"
    }
   ],
   "source": [
    "# covariance matrix\n",
    "data.cov()"
   ]
  },
  {
   "cell_type": "markdown",
   "metadata": {},
   "source": [
    "#### 1b"
   ]
  },
  {
   "cell_type": "code",
   "execution_count": 5,
   "metadata": {},
   "outputs": [],
   "source": [
    "# 1b\n",
    "X1 = data[[\"Sales\", \"Profit\"]].to_numpy()\n",
    "def generalized_dist(X):\n",
    "    cov = np.cov(X, rowvar=False)\n",
    "    d_squared = (X - X.mean(axis=0)) @ np.linalg.inv(cov) @ (X - X.mean(axis=0)).T\n",
    "    return d_squared.diagonal()\n",
    "\n",
    "d_squared = generalized_dist(X1)"
   ]
  },
  {
   "cell_type": "code",
   "execution_count": 6,
   "metadata": {},
   "outputs": [
    {
     "name": "stdout",
     "output_type": "stream",
     "text": [
      "40% of the data is within the 50% confidence ellipse\n"
     ]
    }
   ],
   "source": [
    "crit = st.chi2.ppf(0.5, 2)\n",
    "count = 0\n",
    "for dist_sqaured in d_squared:\n",
    "    if dist_sqaured <= crit:\n",
    "        count += 1\n",
    "print(f\"{count/len(d_squared)*100:.0f}% of the data is within the 50% confidence ellipse\")"
   ]
  },
  {
   "cell_type": "markdown",
   "metadata": {},
   "source": [
    "#### 1c"
   ]
  },
  {
   "cell_type": "code",
   "execution_count": 7,
   "metadata": {},
   "outputs": [
    {
     "data": {
      "image/png": "[encoded data removed]",
      "text/plain": [
       "<Figure size 640x480 with 1 Axes>"
      ]
     },
     "metadata": {},
     "output_type": "display_data"
    }
   ],
   "source": [
    "# 1c: chi-square plot\n",
    "p = 3\n",
    "n = data.shape[0]\n",
    "X2 = data[[\"Sales\", \"Profit\", \"Assets\"]].to_numpy()\n",
    "d_squared2 = generalized_dist(X2)\n",
    "prob = (np.arange(1, n+1) + 1 - 0.5) / n\n",
    "chi_quantiles = st.chi2.ppf(prob, p)\n",
    "plt.scatter(chi_quantiles, np.sort(d_squared2))\n",
    "plt.plot(chi_quantiles, chi_quantiles, color='red', linestyle='--')\n",
    "plt.title(\"Chi-square plot\")\n",
    "plt.xlabel(\"Chi-square quantiles\")\n",
    "plt.ylabel(\"Ordered distances\")\n",
    "plt.show()"
   ]
  },
  {
   "cell_type": "markdown",
   "metadata": {},
   "source": [
    "**Conclusion:** The multivariate normality holds approximately given the chi-squared plot roughly aligns with $45^\\degree$ line"
   ]
  },
  {
   "cell_type": "markdown",
   "metadata": {},
   "source": [
    "### Problem 2"
   ]
  },
  {
   "cell_type": "markdown",
   "metadata": {},
   "source": [
    "#### 2a\n",
    "The training SSE of 2 models should be similar. \n",
    "\n",
    "**Reason:** \n",
    "\n",
    "Since the true relationship between $X$ and $Y$ is linear, the best possible fit would come from the linear model:\n",
    "\n",
    "$$\n",
    "Y = \\beta_0 + \\beta_1 X + \\epsilon\n",
    "$$\n",
    "\n",
    "The cubic model:\n",
    "$$\n",
    "Y = \\beta_0 + \\beta_1 X + \\beta_2 X^2 + \\beta_3 X^3 + \\epsilon\n",
    "$$\n",
    "\n",
    "includes unnecessary terms ($X^2$ and $X^3$). However, when we fit this model, the estimated coefficients should be close to zero, because there is no quadratic or cubic effect in the true data-generating process.\n",
    "\n",
    "Since the cubic model reduces to approximately the linear model (with extra terms that are close to zero), both models should have very similar training SSE.\n",
    "Any small difference in training SSE would come from the cubic model slightly overfitting noise, but this difference should be minimal.\n",
    "\n",
    "#### 2b\n",
    "The testing SSE of 2 models should be similar.\n",
    "\n",
    "**Reason:**\n",
    "Since the true relationship is linear, the best-fitting model for unseen data should also be the linear model.\n",
    "\n",
    "The cubic model has unnecessary terms that were fitted to random variations (noise) in the training data.\n",
    "When applied to the test data, these extra terms do not contribute useful information and might slightly worsen the predictions.\n",
    "However, since the coefficients of $X^2$ and $X^3$ should be close to zero, the cubic model is still approximately a linear model.\n",
    "As a result, the test SSE should be similar between the two models, though the cubic model might perform slightly worse if it overfits noise."
   ]
  },
  {
   "cell_type": "markdown",
   "metadata": {},
   "source": [
    "#### 2c - Simulation"
   ]
  },
  {
   "cell_type": "code",
   "execution_count": 8,
   "metadata": {},
   "outputs": [
    {
     "data": {
      "image/png": "[encoded data removed]",
      "text/plain": [
       "<Figure size 640x480 with 1 Axes>"
      ]
     },
     "metadata": {},
     "output_type": "display_data"
    }
   ],
   "source": [
    "n = 100\n",
    "p = 1\n",
    "X = np.random.normal(0, 10, (n, p))\n",
    "theta = np.random.normal(0, 1, (p, ))\n",
    "Y = X @ theta\n",
    "plt.scatter(X, Y)\n",
    "plt.xlabel(\"X\")\n",
    "plt.ylabel(\"Y\")\n",
    "plt.show()"
   ]
  },
  {
   "cell_type": "code",
   "execution_count": 9,
   "metadata": {},
   "outputs": [],
   "source": [
    "X_train, X_test = X[:80], X[80:]\n",
    "Y_train, Y_test = Y[:80], Y[80:]"
   ]
  },
  {
   "cell_type": "code",
   "execution_count": 10,
   "metadata": {},
   "outputs": [
    {
     "data": {
      "text/html": [
       "<table class=\"simpletable\">\n",
       "<caption>OLS Regression Results</caption>\n",
       "<tr>\n",
       "  <th>Dep. Variable:</th>            <td>y</td>        <th>  R-squared:         </th> <td>   1.000</td> \n",
       "</tr>\n",
       "<tr>\n",
       "  <th>Model:</th>                   <td>OLS</td>       <th>  Adj. R-squared:    </th> <td>   1.000</td> \n",
       "</tr>\n",
       "<tr>\n",
       "  <th>Method:</th>             <td>Least Squares</td>  <th>  F-statistic:       </th> <td>1.012e+33</td>\n",
       "</tr>\n",
       "<tr>\n",
       "  <th>Date:</th>             <td>Sat, 08 Mar 2025</td> <th>  Prob (F-statistic):</th>  <td>  0.00</td>  \n",
       "</tr>\n",
       "<tr>\n",
       "  <th>Time:</th>                 <td>09:25:01</td>     <th>  Log-Likelihood:    </th> <td>  2522.5</td> \n",
       "</tr>\n",
       "<tr>\n",
       "  <th>No. Observations:</th>      <td>    80</td>      <th>  AIC:               </th> <td>  -5041.</td> \n",
       "</tr>\n",
       "<tr>\n",
       "  <th>Df Residuals:</th>          <td>    78</td>      <th>  BIC:               </th> <td>  -5036.</td> \n",
       "</tr>\n",
       "<tr>\n",
       "  <th>Df Model:</th>              <td>     1</td>      <th>                     </th>     <td> </td>    \n",
       "</tr>\n",
       "<tr>\n",
       "  <th>Covariance Type:</th>      <td>nonrobust</td>    <th>                     </th>     <td> </td>    \n",
       "</tr>\n",
       "</table>\n",
       "<table class=\"simpletable\">\n",
       "<tr>\n",
       "    <td></td>       <th>coef</th>     <th>std err</th>      <th>t</th>      <th>P>|t|</th>  <th>[0.025</th>    <th>0.975]</th>  \n",
       "</tr>\n",
       "<tr>\n",
       "  <th>const</th> <td> -1.11e-15</td> <td> 5.56e-16</td> <td>   -1.995</td> <td> 0.050</td> <td>-2.22e-15</td> <td>-2.49e-18</td>\n",
       "</tr>\n",
       "<tr>\n",
       "  <th>x1</th>    <td>   -1.7190</td> <td>  5.4e-17</td> <td>-3.18e+16</td> <td> 0.000</td> <td>   -1.719</td> <td>   -1.719</td>\n",
       "</tr>\n",
       "</table>\n",
       "<table class=\"simpletable\">\n",
       "<tr>\n",
       "  <th>Omnibus:</th>       <td> 1.778</td> <th>  Durbin-Watson:     </th> <td>   1.660</td>\n",
       "</tr>\n",
       "<tr>\n",
       "  <th>Prob(Omnibus):</th> <td> 0.411</td> <th>  Jarque-Bera (JB):  </th> <td>   1.230</td>\n",
       "</tr>\n",
       "<tr>\n",
       "  <th>Skew:</th>          <td>-0.283</td> <th>  Prob(JB):          </th> <td>   0.541</td>\n",
       "</tr>\n",
       "<tr>\n",
       "  <th>Kurtosis:</th>      <td> 3.219</td> <th>  Cond. No.          </th> <td>    10.3</td>\n",
       "</tr>\n",
       "</table><br/><br/>Notes:<br/>[1] Standard Errors assume that the covariance matrix of the errors is correctly specified."
      ],
      "text/latex": [
       "\\begin{center}\n",
       "\\begin{tabular}{lclc}\n",
       "\\toprule\n",
       "\\textbf{Dep. Variable:}    &        y         & \\textbf{  R-squared:         } &     1.000   \\\\\n",
       "\\textbf{Model:}            &       OLS        & \\textbf{  Adj. R-squared:    } &     1.000   \\\\\n",
       "\\textbf{Method:}           &  Least Squares   & \\textbf{  F-statistic:       } & 1.012e+33   \\\\\n",
       "\\textbf{Date:}             & Sat, 08 Mar 2025 & \\textbf{  Prob (F-statistic):} &     0.00    \\\\\n",
       "\\textbf{Time:}             &     09:25:01     & \\textbf{  Log-Likelihood:    } &    2522.5   \\\\\n",
       "\\textbf{No. Observations:} &          80      & \\textbf{  AIC:               } &    -5041.   \\\\\n",
       "\\textbf{Df Residuals:}     &          78      & \\textbf{  BIC:               } &    -5036.   \\\\\n",
       "\\textbf{Df Model:}         &           1      & \\textbf{                     } &             \\\\\n",
       "\\textbf{Covariance Type:}  &    nonrobust     & \\textbf{                     } &             \\\\\n",
       "\\bottomrule\n",
       "\\end{tabular}\n",
       "\\begin{tabular}{lcccccc}\n",
       "               & \\textbf{coef} & \\textbf{std err} & \\textbf{t} & \\textbf{P$> |$t$|$} & \\textbf{[0.025} & \\textbf{0.975]}  \\\\\n",
       "\\midrule\n",
       "\\textbf{const} &    -1.11e-15  &     5.56e-16     &    -1.995  &         0.050        &    -2.22e-15    &    -2.49e-18     \\\\\n",
       "\\textbf{x1}    &      -1.7190  &      5.4e-17     & -3.18e+16  &         0.000        &       -1.719    &       -1.719     \\\\\n",
       "\\bottomrule\n",
       "\\end{tabular}\n",
       "\\begin{tabular}{lclc}\n",
       "\\textbf{Omnibus:}       &  1.778 & \\textbf{  Durbin-Watson:     } &    1.660  \\\\\n",
       "\\textbf{Prob(Omnibus):} &  0.411 & \\textbf{  Jarque-Bera (JB):  } &    1.230  \\\\\n",
       "\\textbf{Skew:}          & -0.283 & \\textbf{  Prob(JB):          } &    0.541  \\\\\n",
       "\\textbf{Kurtosis:}      &  3.219 & \\textbf{  Cond. No.          } &     10.3  \\\\\n",
       "\\bottomrule\n",
       "\\end{tabular}\n",
       "%\\caption{OLS Regression Results}\n",
       "\\end{center}\n",
       "\n",
       "Notes: \\newline\n",
       " [1] Standard Errors assume that the covariance matrix of the errors is correctly specified."
      ],
      "text/plain": [
       "<class 'statsmodels.iolib.summary.Summary'>\n",
       "\"\"\"\n",
       "                            OLS Regression Results                            \n",
       "==============================================================================\n",
       "Dep. Variable:                      y   R-squared:                       1.000\n",
       "Model:                            OLS   Adj. R-squared:                  1.000\n",
       "Method:                 Least Squares   F-statistic:                 1.012e+33\n",
       "Date:                Sat, 08 Mar 2025   Prob (F-statistic):               0.00\n",
       "Time:                        09:25:01   Log-Likelihood:                 2522.5\n",
       "No. Observations:                  80   AIC:                            -5041.\n",
       "Df Residuals:                      78   BIC:                            -5036.\n",
       "Df Model:                           1                                         \n",
       "Covariance Type:            nonrobust                                         \n",
       "==============================================================================\n",
       "                 coef    std err          t      P>|t|      [0.025      0.975]\n",
       "------------------------------------------------------------------------------\n",
       "const       -1.11e-15   5.56e-16     -1.995      0.050   -2.22e-15   -2.49e-18\n",
       "x1            -1.7190    5.4e-17  -3.18e+16      0.000      -1.719      -1.719\n",
       "==============================================================================\n",
       "Omnibus:                        1.778   Durbin-Watson:                   1.660\n",
       "Prob(Omnibus):                  0.411   Jarque-Bera (JB):                1.230\n",
       "Skew:                          -0.283   Prob(JB):                        0.541\n",
       "Kurtosis:                       3.219   Cond. No.                         10.3\n",
       "==============================================================================\n",
       "\n",
       "Notes:\n",
       "[1] Standard Errors assume that the covariance matrix of the errors is correctly specified.\n",
       "\"\"\""
      ]
     },
     "execution_count": 10,
     "metadata": {},
     "output_type": "execute_result"
    }
   ],
   "source": [
    "# linear regression\n",
    "simple_sm = sm.OLS(Y_train, sm.add_constant(X_train)).fit()\n",
    "train_SSE1 = np.sum(simple_sm.resid**2)\n",
    "test_SSE1 = np.sum((Y_test - simple_sm.predict(sm.add_constant(X_test)))**2)\n",
    "simple_sm.summary()"
   ]
  },
  {
   "cell_type": "code",
   "execution_count": 11,
   "metadata": {},
   "outputs": [
    {
     "data": {
      "text/html": [
       "<table class=\"simpletable\">\n",
       "<caption>OLS Regression Results</caption>\n",
       "<tr>\n",
       "  <th>Dep. Variable:</th>            <td>y</td>        <th>  R-squared:         </th> <td>   1.000</td> \n",
       "</tr>\n",
       "<tr>\n",
       "  <th>Model:</th>                   <td>OLS</td>       <th>  Adj. R-squared:    </th> <td>   1.000</td> \n",
       "</tr>\n",
       "<tr>\n",
       "  <th>Method:</th>             <td>Least Squares</td>  <th>  F-statistic:       </th> <td>1.371e+28</td>\n",
       "</tr>\n",
       "<tr>\n",
       "  <th>Date:</th>             <td>Sat, 08 Mar 2025</td> <th>  Prob (F-statistic):</th>  <td>  0.00</td>  \n",
       "</tr>\n",
       "<tr>\n",
       "  <th>Time:</th>                 <td>09:25:01</td>     <th>  Log-Likelihood:    </th> <td>  2119.1</td> \n",
       "</tr>\n",
       "<tr>\n",
       "  <th>No. Observations:</th>      <td>    80</td>      <th>  AIC:               </th> <td>  -4230.</td> \n",
       "</tr>\n",
       "<tr>\n",
       "  <th>Df Residuals:</th>          <td>    76</td>      <th>  BIC:               </th> <td>  -4221.</td> \n",
       "</tr>\n",
       "<tr>\n",
       "  <th>Df Model:</th>              <td>     3</td>      <th>                     </th>     <td> </td>    \n",
       "</tr>\n",
       "<tr>\n",
       "  <th>Covariance Type:</th>      <td>nonrobust</td>    <th>                     </th>     <td> </td>    \n",
       "</tr>\n",
       "</table>\n",
       "<table class=\"simpletable\">\n",
       "<tr>\n",
       "    <td></td>       <th>coef</th>     <th>std err</th>      <th>t</th>      <th>P>|t|</th>  <th>[0.025</th>    <th>0.975]</th>  \n",
       "</tr>\n",
       "<tr>\n",
       "  <th>const</th> <td>-4.245e-14</td> <td> 1.19e-13</td> <td>   -0.356</td> <td> 0.723</td> <td> -2.8e-13</td> <td> 1.95e-13</td>\n",
       "</tr>\n",
       "<tr>\n",
       "  <th>x1</th>    <td>   -1.7190</td> <td> 1.73e-14</td> <td>-9.92e+13</td> <td> 0.000</td> <td>   -1.719</td> <td>   -1.719</td>\n",
       "</tr>\n",
       "<tr>\n",
       "  <th>x2</th>    <td> 1.171e-15</td> <td> 7.95e-16</td> <td>    1.473</td> <td> 0.145</td> <td>-4.12e-16</td> <td> 2.75e-15</td>\n",
       "</tr>\n",
       "<tr>\n",
       "  <th>x3</th>    <td>  3.86e-17</td> <td> 6.68e-17</td> <td>    0.578</td> <td> 0.565</td> <td>-9.45e-17</td> <td> 1.72e-16</td>\n",
       "</tr>\n",
       "</table>\n",
       "<table class=\"simpletable\">\n",
       "<tr>\n",
       "  <th>Omnibus:</th>       <td> 9.281</td> <th>  Durbin-Watson:     </th> <td>   1.644</td>\n",
       "</tr>\n",
       "<tr>\n",
       "  <th>Prob(Omnibus):</th> <td> 0.010</td> <th>  Jarque-Bera (JB):  </th> <td>   5.633</td>\n",
       "</tr>\n",
       "<tr>\n",
       "  <th>Skew:</th>          <td>-0.482</td> <th>  Prob(JB):          </th> <td>  0.0598</td>\n",
       "</tr>\n",
       "<tr>\n",
       "  <th>Kurtosis:</th>      <td> 2.129</td> <th>  Cond. No.          </th> <td>3.77e+03</td>\n",
       "</tr>\n",
       "</table><br/><br/>Notes:<br/>[1] Standard Errors assume that the covariance matrix of the errors is correctly specified.<br/>[2] The condition number is large, 3.77e+03. This might indicate that there are<br/>strong multicollinearity or other numerical problems."
      ],
      "text/latex": [
       "\\begin{center}\n",
       "\\begin{tabular}{lclc}\n",
       "\\toprule\n",
       "\\textbf{Dep. Variable:}    &        y         & \\textbf{  R-squared:         } &     1.000   \\\\\n",
       "\\textbf{Model:}            &       OLS        & \\textbf{  Adj. R-squared:    } &     1.000   \\\\\n",
       "\\textbf{Method:}           &  Least Squares   & \\textbf{  F-statistic:       } & 1.371e+28   \\\\\n",
       "\\textbf{Date:}             & Sat, 08 Mar 2025 & \\textbf{  Prob (F-statistic):} &     0.00    \\\\\n",
       "\\textbf{Time:}             &     09:25:01     & \\textbf{  Log-Likelihood:    } &    2119.1   \\\\\n",
       "\\textbf{No. Observations:} &          80      & \\textbf{  AIC:               } &    -4230.   \\\\\n",
       "\\textbf{Df Residuals:}     &          76      & \\textbf{  BIC:               } &    -4221.   \\\\\n",
       "\\textbf{Df Model:}         &           3      & \\textbf{                     } &             \\\\\n",
       "\\textbf{Covariance Type:}  &    nonrobust     & \\textbf{                     } &             \\\\\n",
       "\\bottomrule\n",
       "\\end{tabular}\n",
       "\\begin{tabular}{lcccccc}\n",
       "               & \\textbf{coef} & \\textbf{std err} & \\textbf{t} & \\textbf{P$> |$t$|$} & \\textbf{[0.025} & \\textbf{0.975]}  \\\\\n",
       "\\midrule\n",
       "\\textbf{const} &   -4.245e-14  &     1.19e-13     &    -0.356  &         0.723        &     -2.8e-13    &     1.95e-13     \\\\\n",
       "\\textbf{x1}    &      -1.7190  &     1.73e-14     & -9.92e+13  &         0.000        &       -1.719    &       -1.719     \\\\\n",
       "\\textbf{x2}    &    1.171e-15  &     7.95e-16     &     1.473  &         0.145        &    -4.12e-16    &     2.75e-15     \\\\\n",
       "\\textbf{x3}    &     3.86e-17  &     6.68e-17     &     0.578  &         0.565        &    -9.45e-17    &     1.72e-16     \\\\\n",
       "\\bottomrule\n",
       "\\end{tabular}\n",
       "\\begin{tabular}{lclc}\n",
       "\\textbf{Omnibus:}       &  9.281 & \\textbf{  Durbin-Watson:     } &    1.644  \\\\\n",
       "\\textbf{Prob(Omnibus):} &  0.010 & \\textbf{  Jarque-Bera (JB):  } &    5.633  \\\\\n",
       "\\textbf{Skew:}          & -0.482 & \\textbf{  Prob(JB):          } &   0.0598  \\\\\n",
       "\\textbf{Kurtosis:}      &  2.129 & \\textbf{  Cond. No.          } & 3.77e+03  \\\\\n",
       "\\bottomrule\n",
       "\\end{tabular}\n",
       "%\\caption{OLS Regression Results}\n",
       "\\end{center}\n",
       "\n",
       "Notes: \\newline\n",
       " [1] Standard Errors assume that the covariance matrix of the errors is correctly specified. \\newline\n",
       " [2] The condition number is large, 3.77e+03. This might indicate that there are \\newline\n",
       " strong multicollinearity or other numerical problems."
      ],
      "text/plain": [
       "<class 'statsmodels.iolib.summary.Summary'>\n",
       "\"\"\"\n",
       "                            OLS Regression Results                            \n",
       "==============================================================================\n",
       "Dep. Variable:                      y   R-squared:                       1.000\n",
       "Model:                            OLS   Adj. R-squared:                  1.000\n",
       "Method:                 Least Squares   F-statistic:                 1.371e+28\n",
       "Date:                Sat, 08 Mar 2025   Prob (F-statistic):               0.00\n",
       "Time:                        09:25:01   Log-Likelihood:                 2119.1\n",
       "No. Observations:                  80   AIC:                            -4230.\n",
       "Df Residuals:                      76   BIC:                            -4221.\n",
       "Df Model:                           3                                         \n",
       "Covariance Type:            nonrobust                                         \n",
       "==============================================================================\n",
       "                 coef    std err          t      P>|t|      [0.025      0.975]\n",
       "------------------------------------------------------------------------------\n",
       "const      -4.245e-14   1.19e-13     -0.356      0.723    -2.8e-13    1.95e-13\n",
       "x1            -1.7190   1.73e-14  -9.92e+13      0.000      -1.719      -1.719\n",
       "x2          1.171e-15   7.95e-16      1.473      0.145   -4.12e-16    2.75e-15\n",
       "x3           3.86e-17   6.68e-17      0.578      0.565   -9.45e-17    1.72e-16\n",
       "==============================================================================\n",
       "Omnibus:                        9.281   Durbin-Watson:                   1.644\n",
       "Prob(Omnibus):                  0.010   Jarque-Bera (JB):                5.633\n",
       "Skew:                          -0.482   Prob(JB):                       0.0598\n",
       "Kurtosis:                       2.129   Cond. No.                     3.77e+03\n",
       "==============================================================================\n",
       "\n",
       "Notes:\n",
       "[1] Standard Errors assume that the covariance matrix of the errors is correctly specified.\n",
       "[2] The condition number is large, 3.77e+03. This might indicate that there are\n",
       "strong multicollinearity or other numerical problems.\n",
       "\"\"\""
      ]
     },
     "execution_count": 11,
     "metadata": {},
     "output_type": "execute_result"
    }
   ],
   "source": [
    "poly_X = np.hstack((X, X**2, X**3))\n",
    "poly_X_train, poly_X_test = poly_X[:80], poly_X[80:]\n",
    "poly_sm = sm.OLS(Y_train, sm.add_constant(poly_X_train)).fit()\n",
    "train_SSE2 = np.sum(poly_sm.resid**2)\n",
    "test_SSE2 = np.sum((Y_test - poly_sm.predict(sm.add_constant(poly_X_test)))**2)\n",
    "poly_sm.summary()"
   ]
  },
  {
   "cell_type": "code",
   "execution_count": 12,
   "metadata": {},
   "outputs": [
    {
     "name": "stdout",
     "output_type": "stream",
     "text": [
      "Simple: Train SSE: 0.00, Test SSE: 0.00\n",
      "Polynomial: Train SSE: 0.00, Test SSE: 0.00\n"
     ]
    }
   ],
   "source": [
    "print(f\"Simple: Train SSE: {train_SSE1:.2f}, Test SSE: {test_SSE1:.2f}\")\n",
    "print(f\"Polynomial: Train SSE: {train_SSE2:.2f}, Test SSE: {test_SSE2:.2f}\")"
   ]
  },
  {
   "cell_type": "markdown",
   "metadata": {},
   "source": [
    "From the simulation results above, I find that the results about training SSE and testing SSE matches our previous analysis."
   ]
  },
  {
   "cell_type": "markdown",
   "metadata": {},
   "source": [
    "### Problem 3"
   ]
  },
  {
   "cell_type": "markdown",
   "metadata": {},
   "source": [
    "#### 3a"
   ]
  },
  {
   "cell_type": "code",
   "execution_count": 13,
   "metadata": {},
   "outputs": [
    {
     "data": {
      "text/html": [
       "<div>\n",
       "<style scoped>\n",
       "    .dataframe tbody tr th:only-of-type {\n",
       "        vertical-align: middle;\n",
       "    }\n",
       "\n",
       "    .dataframe tbody tr th {\n",
       "        vertical-align: top;\n",
       "    }\n",
       "\n",
       "    .dataframe thead th {\n",
       "        text-align: right;\n",
       "    }\n",
       "</style>\n",
       "<table border=\"1\" class=\"dataframe\">\n",
       "  <thead>\n",
       "    <tr style=\"text-align: right;\">\n",
       "      <th></th>\n",
       "      <th>Y</th>\n",
       "      <th>X1</th>\n",
       "      <th>X2</th>\n",
       "      <th>X3</th>\n",
       "    </tr>\n",
       "  </thead>\n",
       "  <tbody>\n",
       "    <tr>\n",
       "      <th>0</th>\n",
       "      <td>132.0</td>\n",
       "      <td>0.71</td>\n",
       "      <td>38.0</td>\n",
       "      <td>71.0</td>\n",
       "    </tr>\n",
       "    <tr>\n",
       "      <th>1</th>\n",
       "      <td>53.0</td>\n",
       "      <td>1.48</td>\n",
       "      <td>78.0</td>\n",
       "      <td>69.0</td>\n",
       "    </tr>\n",
       "    <tr>\n",
       "      <th>2</th>\n",
       "      <td>50.0</td>\n",
       "      <td>2.21</td>\n",
       "      <td>69.0</td>\n",
       "      <td>85.0</td>\n",
       "    </tr>\n",
       "    <tr>\n",
       "      <th>3</th>\n",
       "      <td>82.0</td>\n",
       "      <td>1.43</td>\n",
       "      <td>70.0</td>\n",
       "      <td>100.0</td>\n",
       "    </tr>\n",
       "    <tr>\n",
       "      <th>4</th>\n",
       "      <td>110.0</td>\n",
       "      <td>0.68</td>\n",
       "      <td>45.0</td>\n",
       "      <td>59.0</td>\n",
       "    </tr>\n",
       "  </tbody>\n",
       "</table>\n",
       "</div>"
      ],
      "text/plain": [
       "       Y    X1    X2     X3\n",
       "0  132.0  0.71  38.0   71.0\n",
       "1   53.0  1.48  78.0   69.0\n",
       "2   50.0  2.21  69.0   85.0\n",
       "3   82.0  1.43  70.0  100.0\n",
       "4  110.0  0.68  45.0   59.0"
      ]
     },
     "execution_count": 13,
     "metadata": {},
     "output_type": "execute_result"
    }
   ],
   "source": [
    "data = pd.read_csv('data/HW3-3.txt', header=0, sep='\\s+')\n",
    "data.head()"
   ]
  },
  {
   "cell_type": "code",
   "execution_count": 14,
   "metadata": {},
   "outputs": [
    {
     "data": {
      "text/plain": [
       "((33, 3), (33,))"
      ]
     },
     "execution_count": 14,
     "metadata": {},
     "output_type": "execute_result"
    }
   ],
   "source": [
    "Y = data[\"Y\"]\n",
    "X = data[[\"X1\", \"X2\", \"X3\"]]\n",
    "X.shape, Y.shape"
   ]
  },
  {
   "cell_type": "code",
   "execution_count": 15,
   "metadata": {},
   "outputs": [
    {
     "data": {
      "image/png": "[encoded data removed]",
      "text/plain": [
       "<Figure size 1000x1000 with 20 Axes>"
      ]
     },
     "metadata": {},
     "output_type": "display_data"
    }
   ],
   "source": [
    "sns.pairplot(data)\n",
    "plt.show()"
   ]
  },
  {
   "cell_type": "code",
   "execution_count": 16,
   "metadata": {},
   "outputs": [
    {
     "data": {
      "image/png": "[encoded data removed]",
      "text/plain": [
       "<Figure size 640x480 with 2 Axes>"
      ]
     },
     "metadata": {},
     "output_type": "display_data"
    }
   ],
   "source": [
    "sns.heatmap(X.corr(), annot=True)\n",
    "plt.title(\"Correlation matrix\")\n",
    "plt.show()"
   ]
  },
  {
   "cell_type": "markdown",
   "metadata": {},
   "source": [
    "Each predictor variable has rough linear relationship with Y given the scatterplot matrix.\n",
    "\n",
    "There is no serious multicollinearity problem given all absolute correlation is less than 0.5."
   ]
  },
  {
   "cell_type": "markdown",
   "metadata": {},
   "source": [
    "#### 3b"
   ]
  },
  {
   "cell_type": "code",
   "execution_count": 17,
   "metadata": {},
   "outputs": [
    {
     "data": {
      "text/html": [
       "<table class=\"simpletable\">\n",
       "<caption>OLS Regression Results</caption>\n",
       "<tr>\n",
       "  <th>Dep. Variable:</th>            <td>Y</td>        <th>  R-squared:         </th> <td>   0.855</td>\n",
       "</tr>\n",
       "<tr>\n",
       "  <th>Model:</th>                   <td>OLS</td>       <th>  Adj. R-squared:    </th> <td>   0.840</td>\n",
       "</tr>\n",
       "<tr>\n",
       "  <th>Method:</th>             <td>Least Squares</td>  <th>  F-statistic:       </th> <td>   56.92</td>\n",
       "</tr>\n",
       "<tr>\n",
       "  <th>Date:</th>             <td>Sat, 08 Mar 2025</td> <th>  Prob (F-statistic):</th> <td>2.88e-12</td>\n",
       "</tr>\n",
       "<tr>\n",
       "  <th>Time:</th>                 <td>09:25:02</td>     <th>  Log-Likelihood:    </th> <td> -127.93</td>\n",
       "</tr>\n",
       "<tr>\n",
       "  <th>No. Observations:</th>      <td>    33</td>      <th>  AIC:               </th> <td>   263.9</td>\n",
       "</tr>\n",
       "<tr>\n",
       "  <th>Df Residuals:</th>          <td>    29</td>      <th>  BIC:               </th> <td>   269.8</td>\n",
       "</tr>\n",
       "<tr>\n",
       "  <th>Df Model:</th>              <td>     3</td>      <th>                     </th>     <td> </td>   \n",
       "</tr>\n",
       "<tr>\n",
       "  <th>Covariance Type:</th>      <td>nonrobust</td>    <th>                     </th>     <td> </td>   \n",
       "</tr>\n",
       "</table>\n",
       "<table class=\"simpletable\">\n",
       "<tr>\n",
       "    <td></td>       <th>coef</th>     <th>std err</th>      <th>t</th>      <th>P>|t|</th>  <th>[0.025</th>    <th>0.975]</th>  \n",
       "</tr>\n",
       "<tr>\n",
       "  <th>const</th> <td>  120.0473</td> <td>   14.774</td> <td>    8.126</td> <td> 0.000</td> <td>   89.832</td> <td>  150.263</td>\n",
       "</tr>\n",
       "<tr>\n",
       "  <th>X1</th>    <td>  -39.9393</td> <td>    5.600</td> <td>   -7.132</td> <td> 0.000</td> <td>  -51.393</td> <td>  -28.486</td>\n",
       "</tr>\n",
       "<tr>\n",
       "  <th>X2</th>    <td>   -0.7368</td> <td>    0.141</td> <td>   -5.211</td> <td> 0.000</td> <td>   -1.026</td> <td>   -0.448</td>\n",
       "</tr>\n",
       "<tr>\n",
       "  <th>X3</th>    <td>    0.7764</td> <td>    0.172</td> <td>    4.517</td> <td> 0.000</td> <td>    0.425</td> <td>    1.128</td>\n",
       "</tr>\n",
       "</table>\n",
       "<table class=\"simpletable\">\n",
       "<tr>\n",
       "  <th>Omnibus:</th>       <td> 2.889</td> <th>  Durbin-Watson:     </th> <td>   2.349</td>\n",
       "</tr>\n",
       "<tr>\n",
       "  <th>Prob(Omnibus):</th> <td> 0.236</td> <th>  Jarque-Bera (JB):  </th> <td>   2.452</td>\n",
       "</tr>\n",
       "<tr>\n",
       "  <th>Skew:</th>          <td>-0.658</td> <th>  Prob(JB):          </th> <td>   0.293</td>\n",
       "</tr>\n",
       "<tr>\n",
       "  <th>Kurtosis:</th>      <td> 2.768</td> <th>  Cond. No.          </th> <td>    639.</td>\n",
       "</tr>\n",
       "</table><br/><br/>Notes:<br/>[1] Standard Errors assume that the covariance matrix of the errors is correctly specified."
      ],
      "text/latex": [
       "\\begin{center}\n",
       "\\begin{tabular}{lclc}\n",
       "\\toprule\n",
       "\\textbf{Dep. Variable:}    &        Y         & \\textbf{  R-squared:         } &     0.855   \\\\\n",
       "\\textbf{Model:}            &       OLS        & \\textbf{  Adj. R-squared:    } &     0.840   \\\\\n",
       "\\textbf{Method:}           &  Least Squares   & \\textbf{  F-statistic:       } &     56.92   \\\\\n",
       "\\textbf{Date:}             & Sat, 08 Mar 2025 & \\textbf{  Prob (F-statistic):} &  2.88e-12   \\\\\n",
       "\\textbf{Time:}             &     09:25:02     & \\textbf{  Log-Likelihood:    } &   -127.93   \\\\\n",
       "\\textbf{No. Observations:} &          33      & \\textbf{  AIC:               } &     263.9   \\\\\n",
       "\\textbf{Df Residuals:}     &          29      & \\textbf{  BIC:               } &     269.8   \\\\\n",
       "\\textbf{Df Model:}         &           3      & \\textbf{                     } &             \\\\\n",
       "\\textbf{Covariance Type:}  &    nonrobust     & \\textbf{                     } &             \\\\\n",
       "\\bottomrule\n",
       "\\end{tabular}\n",
       "\\begin{tabular}{lcccccc}\n",
       "               & \\textbf{coef} & \\textbf{std err} & \\textbf{t} & \\textbf{P$> |$t$|$} & \\textbf{[0.025} & \\textbf{0.975]}  \\\\\n",
       "\\midrule\n",
       "\\textbf{const} &     120.0473  &       14.774     &     8.126  &         0.000        &       89.832    &      150.263     \\\\\n",
       "\\textbf{X1}    &     -39.9393  &        5.600     &    -7.132  &         0.000        &      -51.393    &      -28.486     \\\\\n",
       "\\textbf{X2}    &      -0.7368  &        0.141     &    -5.211  &         0.000        &       -1.026    &       -0.448     \\\\\n",
       "\\textbf{X3}    &       0.7764  &        0.172     &     4.517  &         0.000        &        0.425    &        1.128     \\\\\n",
       "\\bottomrule\n",
       "\\end{tabular}\n",
       "\\begin{tabular}{lclc}\n",
       "\\textbf{Omnibus:}       &  2.889 & \\textbf{  Durbin-Watson:     } &    2.349  \\\\\n",
       "\\textbf{Prob(Omnibus):} &  0.236 & \\textbf{  Jarque-Bera (JB):  } &    2.452  \\\\\n",
       "\\textbf{Skew:}          & -0.658 & \\textbf{  Prob(JB):          } &    0.293  \\\\\n",
       "\\textbf{Kurtosis:}      &  2.768 & \\textbf{  Cond. No.          } &     639.  \\\\\n",
       "\\bottomrule\n",
       "\\end{tabular}\n",
       "%\\caption{OLS Regression Results}\n",
       "\\end{center}\n",
       "\n",
       "Notes: \\newline\n",
       " [1] Standard Errors assume that the covariance matrix of the errors is correctly specified."
      ],
      "text/plain": [
       "<class 'statsmodels.iolib.summary.Summary'>\n",
       "\"\"\"\n",
       "                            OLS Regression Results                            \n",
       "==============================================================================\n",
       "Dep. Variable:                      Y   R-squared:                       0.855\n",
       "Model:                            OLS   Adj. R-squared:                  0.840\n",
       "Method:                 Least Squares   F-statistic:                     56.92\n",
       "Date:                Sat, 08 Mar 2025   Prob (F-statistic):           2.88e-12\n",
       "Time:                        09:25:02   Log-Likelihood:                -127.93\n",
       "No. Observations:                  33   AIC:                             263.9\n",
       "Df Residuals:                      29   BIC:                             269.8\n",
       "Df Model:                           3                                         \n",
       "Covariance Type:            nonrobust                                         \n",
       "==============================================================================\n",
       "                 coef    std err          t      P>|t|      [0.025      0.975]\n",
       "------------------------------------------------------------------------------\n",
       "const        120.0473     14.774      8.126      0.000      89.832     150.263\n",
       "X1           -39.9393      5.600     -7.132      0.000     -51.393     -28.486\n",
       "X2            -0.7368      0.141     -5.211      0.000      -1.026      -0.448\n",
       "X3             0.7764      0.172      4.517      0.000       0.425       1.128\n",
       "==============================================================================\n",
       "Omnibus:                        2.889   Durbin-Watson:                   2.349\n",
       "Prob(Omnibus):                  0.236   Jarque-Bera (JB):                2.452\n",
       "Skew:                          -0.658   Prob(JB):                        0.293\n",
       "Kurtosis:                       2.768   Cond. No.                         639.\n",
       "==============================================================================\n",
       "\n",
       "Notes:\n",
       "[1] Standard Errors assume that the covariance matrix of the errors is correctly specified.\n",
       "\"\"\""
      ]
     },
     "execution_count": 17,
     "metadata": {},
     "output_type": "execute_result"
    }
   ],
   "source": [
    "# 3b\n",
    "model1 = sm.OLS(Y, sm.add_constant(X)).fit()\n",
    "model1.summary()"
   ]
  },
  {
   "cell_type": "markdown",
   "metadata": {},
   "source": [
    "The adjusted $R^2$ is 0.84."
   ]
  },
  {
   "cell_type": "markdown",
   "metadata": {},
   "source": [
    "#### 3c"
   ]
  },
  {
   "cell_type": "code",
   "execution_count": 18,
   "metadata": {},
   "outputs": [
    {
     "name": "stdout",
     "output_type": "stream",
     "text": [
      "F-test pvalue: 2.884882050444578e-12\n"
     ]
    }
   ],
   "source": [
    "# 3c: F-test\n",
    "print(f\"F-test pvalue: {model1.f_pvalue}\")\n",
    "# model1 = sm.OLS(Y, sm.add_constant(X)).fit()\n",
    "# sse = np.sum(model1.resid**2)\n",
    "# sst = np.sum((Y - Y.mean())**2)\n",
    "# n, p = X.shape\n",
    "# F = ((sst - sse) / p) / (sse / (n - p - 1))\n",
    "# alpha = 0.01\n",
    "# F_crit = st.f.ppf(1 - alpha, p, n - p - 1)\n",
    "# pval = 1 - st.f.cdf(F, p, n - p - 1)\n",
    "# print(f\"F-statistic: {F:.2f}, p-value: {pval}\")"
   ]
  },
  {
   "cell_type": "markdown",
   "metadata": {},
   "source": [
    "With the F-test, the p-value is less that $\\alpha=0.01$, so we could reject the null hypothesis that every coefficient equals to 0 with 99% confidence. It means at least one predictor significant in 99% confidence."
   ]
  },
  {
   "cell_type": "markdown",
   "metadata": {},
   "source": [
    "#### 3d"
   ]
  },
  {
   "cell_type": "code",
   "execution_count": 19,
   "metadata": {},
   "outputs": [
    {
     "data": {
      "text/html": [
       "<div>\n",
       "<style scoped>\n",
       "    .dataframe tbody tr th:only-of-type {\n",
       "        vertical-align: middle;\n",
       "    }\n",
       "\n",
       "    .dataframe tbody tr th {\n",
       "        vertical-align: top;\n",
       "    }\n",
       "\n",
       "    .dataframe thead th {\n",
       "        text-align: right;\n",
       "    }\n",
       "</style>\n",
       "<table border=\"1\" class=\"dataframe\">\n",
       "  <thead>\n",
       "    <tr style=\"text-align: right;\">\n",
       "      <th></th>\n",
       "      <th>Lower</th>\n",
       "      <th>Upper</th>\n",
       "    </tr>\n",
       "  </thead>\n",
       "  <tbody>\n",
       "    <tr>\n",
       "      <th>const</th>\n",
       "      <td>79.325251</td>\n",
       "      <td>160.769314</td>\n",
       "    </tr>\n",
       "    <tr>\n",
       "      <th>X1</th>\n",
       "      <td>-55.374961</td>\n",
       "      <td>-24.503693</td>\n",
       "    </tr>\n",
       "    <tr>\n",
       "      <th>X2</th>\n",
       "      <td>-1.126504</td>\n",
       "      <td>-0.347031</td>\n",
       "    </tr>\n",
       "    <tr>\n",
       "      <th>X3</th>\n",
       "      <td>0.302638</td>\n",
       "      <td>1.250200</td>\n",
       "    </tr>\n",
       "  </tbody>\n",
       "</table>\n",
       "</div>"
      ],
      "text/plain": [
       "           Lower       Upper\n",
       "const  79.325251  160.769314\n",
       "X1    -55.374961  -24.503693\n",
       "X2     -1.126504   -0.347031\n",
       "X3      0.302638    1.250200"
      ]
     },
     "execution_count": 19,
     "metadata": {},
     "output_type": "execute_result"
    }
   ],
   "source": [
    "# 3d: CI for coefficients\n",
    "ci = model1.conf_int(alpha=0.01)\n",
    "ci.columns = [\"Lower\", \"Upper\"]\n",
    "ci"
   ]
  },
  {
   "cell_type": "markdown",
   "metadata": {},
   "source": [
    "Based on the confidence intervals, all the predictors (X1, X2, and X3) are statistically significant at the 0.01 significance level (alpha = 0.01). This is because none of their confidence intervals include zero."
   ]
  },
  {
   "cell_type": "markdown",
   "metadata": {},
   "source": [
    "#### 3e"
   ]
  },
  {
   "cell_type": "code",
   "execution_count": 20,
   "metadata": {},
   "outputs": [
    {
     "data": {
      "image/png": "[encoded data removed]",
      "text/plain": [
       "<Figure size 640x480 with 1 Axes>"
      ]
     },
     "metadata": {},
     "output_type": "display_data"
    }
   ],
   "source": [
    "# 3e: residual analysis\n",
    "residuals = model1.resid\n",
    "plt.hist(residuals, bins=20, edgecolor='black', alpha=0.7)\n",
    "plt.xlabel(\"Residuals\")\n",
    "plt.title(\"Residuals Histogram\")\n",
    "plt.show()"
   ]
  },
  {
   "cell_type": "code",
   "execution_count": 21,
   "metadata": {},
   "outputs": [
    {
     "data": {
      "image/png": "[encoded data removed]",
      "text/plain": [
       "<Figure size 640x480 with 1 Axes>"
      ]
     },
     "metadata": {},
     "output_type": "display_data"
    }
   ],
   "source": [
    "# 3e: QQ plot\n",
    "st.probplot(residuals, dist=\"norm\", plot=plt)\n",
    "plt.title(\"QQ Plot\")\n",
    "plt.show()"
   ]
  },
  {
   "cell_type": "markdown",
   "metadata": {},
   "source": [
    "Both residual histogram and QQ plot indicate that the assumption about normal distribution is roughly supported. Because histogram is approximately symmetrix at x=0 and points in QQ plot follow the red line."
   ]
  },
  {
   "cell_type": "markdown",
   "metadata": {},
   "source": [
    "#### 3f"
   ]
  },
  {
   "cell_type": "code",
   "execution_count": 22,
   "metadata": {},
   "outputs": [
    {
     "data": {
      "image/png": "[encoded data removed]",
      "text/plain": [
       "<Figure size 640x480 with 1 Axes>"
      ]
     },
     "metadata": {},
     "output_type": "display_data"
    }
   ],
   "source": [
    "# 3f: residual vs fitted plot\n",
    "plt.scatter(model1.fittedvalues, residuals)\n",
    "plt.axhline(y=0, color='r', linestyle='--')\n",
    "plt.xlabel(\"Fitted values\")\n",
    "plt.ylabel(\"Residuals\")\n",
    "plt.title(\"Residuals vs Fitted Values\")\n",
    "plt.show()"
   ]
  },
  {
   "cell_type": "markdown",
   "metadata": {},
   "source": [
    "The residuals appear to be randomly scattered around the horizontal line at zero (the red dashed line), so the linearity assumption is reasonably met. "
   ]
  },
  {
   "cell_type": "markdown",
   "metadata": {},
   "source": [
    "#### 3g"
   ]
  },
  {
   "cell_type": "code",
   "execution_count": 23,
   "metadata": {},
   "outputs": [
    {
     "name": "stdout",
     "output_type": "stream",
     "text": [
      "BP test: F-statistic: 1.77, p-value: 0.163630\n"
     ]
    }
   ],
   "source": [
    "# 3g: Breusch-Pagan test\n",
    "bp_test = het_breuschpagan(model1.resid, model1.model.exog)\n",
    "print(f\"BP test: F-statistic: {bp_test[2]:.2f}, p-value: {bp_test[1]:.6f}\")"
   ]
  },
  {
   "cell_type": "markdown",
   "metadata": {},
   "source": [
    "We cannot reject the null hypothesis that the variance of error terms are same in 99% confidence given p-value > 0.01. So the homoscedasticity assumption is supported. "
   ]
  },
  {
   "cell_type": "markdown",
   "metadata": {},
   "source": [
    "#### 3h"
   ]
  },
  {
   "cell_type": "code",
   "execution_count": 24,
   "metadata": {},
   "outputs": [
    {
     "data": {
      "text/plain": [
       "(33, 9)"
      ]
     },
     "execution_count": 24,
     "metadata": {},
     "output_type": "execute_result"
    }
   ],
   "source": [
    "# 3h\n",
    "data['X1^2'] = data['X1']**2\n",
    "data['X2^2'] = data['X2']**2\n",
    "data['X3^2'] = data['X3']**2\n",
    "data['X1*X2'] = data['X1'] * data['X2']\n",
    "data['X1*X3'] = data['X1'] * data['X3']\n",
    "data['X2*X3'] = data['X2'] * data['X3']\n",
    "X_poly = data[[\"X1\", \"X2\", \"X3\", \"X1^2\", \"X2^2\", \"X3^2\", \"X1*X2\", \"X1*X3\", \"X2*X3\"]]\n",
    "X_poly.shape"
   ]
  },
  {
   "cell_type": "code",
   "execution_count": 25,
   "metadata": {},
   "outputs": [],
   "source": [
    "# Define function to compute BIC and adjusted R^2\n",
    "def evaluate_model(X, y):\n",
    "    X = sm.add_constant(X)  # Add intercept\n",
    "    model = sm.OLS(y, X).fit()\n",
    "    bic = model.bic\n",
    "    adj_r2 = model.rsquared_adj\n",
    "    return bic, adj_r2, model\n",
    "\n",
    "# Find all subsets of predictors\n",
    "predictor_names = X_poly.columns.tolist()\n",
    "subset_scores_bic = []\n",
    "subset_scores_adj_r2 = []\n",
    "\n",
    "for k in range(1, len(predictor_names) + 1):\n",
    "    for subset in itertools.combinations(predictor_names, k):\n",
    "        X_subset = data[list(subset)]\n",
    "        bic, adj_r2, model = evaluate_model(X_subset, Y)\n",
    "        # print(subset, X_subset.shape, model.bic, model.rsquared_adj)\n",
    "        subset_scores_bic.append((subset, bic))\n",
    "        subset_scores_adj_r2.append((subset, adj_r2))"
   ]
  },
  {
   "cell_type": "code",
   "execution_count": 26,
   "metadata": {},
   "outputs": [
    {
     "name": "stdout",
     "output_type": "stream",
     "text": [
      "Best model based on BIC variables: ('X1', 'X2', 'X3', 'X1*X2')\n",
      "Best BIC:  267.37\n"
     ]
    }
   ],
   "source": [
    "# Get the three best models according to BIC\n",
    "best_bic_models = sorted(subset_scores_bic, key=lambda x: x[1])[0]\n",
    "print(f\"Best model based on BIC variables: {best_bic_models[0]}\\nBest BIC: {best_bic_models[1]: .2f}\")"
   ]
  },
  {
   "cell_type": "code",
   "execution_count": 27,
   "metadata": {},
   "outputs": [
    {
     "name": "stdout",
     "output_type": "stream",
     "text": [
      "Best model based on adjusted R^2: ('X1', 'X2', 'X3', 'X3^2', 'X1*X2')\n",
      "Best Adj R^2:  0.87\n"
     ]
    }
   ],
   "source": [
    "# Get the three best models according to Adjusted R^2\n",
    "best_adj_r2_models = sorted(subset_scores_adj_r2, key=lambda x: x[1], reverse=True)[0]\n",
    "print(f\"Best model based on adjusted R^2: {best_adj_r2_models[0]}\\nBest Adj R^2: {best_adj_r2_models[1]: .2f}\")"
   ]
  },
  {
   "cell_type": "markdown",
   "metadata": {},
   "source": [
    "The results are different when using different metric to select model."
   ]
  },
  {
   "cell_type": "markdown",
   "metadata": {},
   "source": [
    "### Problem 4"
   ]
  },
  {
   "cell_type": "markdown",
   "metadata": {},
   "source": [
    "#### 4a\n",
    "The log-likelihood function is\n",
    "$$\n",
    "\\ell(\\beta_0,\\beta_1, \\sigma^2) = -\\frac{1}{2\\sigma^2}\\sum_{i=1}^n (y_i-\\beta_1x_i - \\beta_0)^2 - \\frac{n}{2}\\log(2\\pi\\sigma^2)\n",
    "$$\n",
    "Use MLE to estimate $\\sigma^2$:\n",
    "$$\n",
    "\\frac{\\partial \\ell}{\\partial \\sigma^2} = \\frac{1}{2\\sigma^4}\\sum_{i=1}^n (y_i-\\beta_1x_i - \\beta_0)^2 - \\frac{n}{2\\sigma^2} = 0\n",
    "$$\n",
    "\n",
    "$$\n",
    "H_0: \\hat{\\sigma}^2_0 = \\frac{\\sum_{i=1}^n (y_i- \\beta_0)^2}{n} = \\frac{\\sum_{i=1}^n (y_i-\\overline{y} + \\beta_1x_i)^2}{n} = \\frac{\\sum_{i=1}^n (y_i - \\overline{y})^2}{n} = \\frac{SST}{n}\n",
    "$$\n",
    "\n",
    "$$\n",
    "H_a:\\hat{\\sigma}^2_a = \\frac{\\sum_{i=1}^n (y_i- \\beta_0- \\beta_1x_i)^2}{n} = \\frac{SSE}{n}\n",
    "$$\n",
    "\n",
    "So the likelihood ratio is\n",
    "\n",
    "\n",
    "\n",
    "#### 4b\n",
    "\n",
    "With LRT, we have rejection region: \n",
    "$$\n",
    "\\begin{split}\n",
    "\\{x_1,\\cdots, x_n: \\Lambda < k\\} &\\Rightarrow\\Bigg(\\frac{SSE}{SST}\\Bigg)^{\\frac{n}{2}}  < k \\\\\n",
    "&\\Rightarrow \\frac{SSE}{SST} < k^{-\\frac{n}{2}} \\Rightarrow \\frac{SST - SSR}{SST} = 1 - \\frac{SSR}{SST} < k^{-\\frac{n}{2}} \\\\\n",
    "&\\Rightarrow \\frac{SSR}{SST} > 1 - k^{-\\frac{n}{2}} \\Rightarrow \\frac{SSR}{SST/(n-2)} > (n-2)(1 - k^{-\\frac{n}{2}})\n",
    "\\end{split}\n",
    "$$\n",
    "which is equivalent to $\\displaystyle F = \\frac{SSR}{SST/(n-2)} > c$\n"
   ]
  },
  {
   "cell_type": "markdown",
   "metadata": {},
   "source": [
    "#### 4c"
   ]
  },
  {
   "cell_type": "code",
   "execution_count": 28,
   "metadata": {},
   "outputs": [
    {
     "name": "stdout",
     "output_type": "stream",
     "text": [
      "F-statistic: 9.22, Critical value: 6.85, p-value: 0.002947\n"
     ]
    }
   ],
   "source": [
    "n = 120\n",
    "alpha = 0.01\n",
    "p = 1\n",
    "\n",
    "SSE = 45.818\n",
    "SSR = 3.58\n",
    "F = (SSR / p) / (SSE / (n - p - 1))\n",
    "F_crit = st.f.ppf(1 - alpha, p, n - p - 1)\n",
    "pval = 1 - st.f.cdf(F, p, n - p - 1)\n",
    "print(f\"F-statistic: {F:.2f}, Critical value: {F_crit:.2f}, p-value: {pval:.6f}\")"
   ]
  },
  {
   "cell_type": "markdown",
   "metadata": {},
   "source": [
    "#### 4d"
   ]
  },
  {
   "cell_type": "code",
   "execution_count": 29,
   "metadata": {},
   "outputs": [
    {
     "name": "stdout",
     "output_type": "stream",
     "text": [
      "G-square: 9.03, Critical value: 6.63, p-value: 0.002659\n"
     ]
    }
   ],
   "source": [
    "SST = SSE + SSR\n",
    "LR = (SSE / SST) ** (n / 2)\n",
    "G_square = -2 * np.log(LR)\n",
    "G_square_crit = st.chi2.ppf(1 - alpha, p)\n",
    "pval = 1 - st.chi2.cdf(G_square, p)\n",
    "print(f\"G-square: {G_square:.2f}, Critical value: {G_square_crit:.2f}, p-value: {pval:.6f}\")"
   ]
  },
  {
   "cell_type": "markdown",
   "metadata": {},
   "source": [
    "The asymptotic approximation has similar p-value with F-test."
   ]
  }
 ],
 "metadata": {
  "kernelspec": {
   "display_name": "stats",
   "language": "python",
   "name": "python3"
  },
  "language_info": {
   "codemirror_mode": {
    "name": "ipython",
    "version": 3
   },
   "file_extension": ".py",
   "mimetype": "text/x-python",
   "name": "python",
   "nbconvert_exporter": "python",
   "pygments_lexer": "ipython3",
   "version": "3.13.1"
  }
 },
 "nbformat": 4,
 "nbformat_minor": 4
}
